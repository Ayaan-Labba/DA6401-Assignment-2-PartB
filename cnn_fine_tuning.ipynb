{
 "cells": [
  {
   "cell_type": "markdown",
   "id": "59ca92a6",
   "metadata": {},
   "source": [
    "#### 1. Import required libraries"
   ]
  },
  {
   "cell_type": "code",
   "execution_count": 1,
   "id": "51cb39e1",
   "metadata": {},
   "outputs": [],
   "source": [
    "import torch\n",
    "import torch.nn as nn\n",
    "import torchvision\n",
    "import torchvision.transforms as transforms\n",
    "from torch.utils.data import DataLoader, random_split\n",
    "from torchvision.datasets import ImageFolder\n",
    "import wandb"
   ]
  },
  {
   "cell_type": "markdown",
   "id": "18ee9dec",
   "metadata": {},
   "source": [
    "#### 2. Initialize wandb"
   ]
  },
  {
   "cell_type": "code",
   "execution_count": 3,
   "id": "454c3186",
   "metadata": {},
   "outputs": [
    {
     "data": {
      "text/html": [],
      "text/plain": [
       "<IPython.core.display.HTML object>"
      ]
     },
     "metadata": {},
     "output_type": "display_data"
    },
    {
     "data": {
      "text/html": [
       " View run <strong style=\"color:#cdcd00\">dark-cosmos-1</strong> at: <a href='https://wandb.ai/ch21b021-indian-institute-of-technology-madras/iNaturalist-finetune/runs/yz5uqpv3' target=\"_blank\">https://wandb.ai/ch21b021-indian-institute-of-technology-madras/iNaturalist-finetune/runs/yz5uqpv3</a><br> View project at: <a href='https://wandb.ai/ch21b021-indian-institute-of-technology-madras/iNaturalist-finetune' target=\"_blank\">https://wandb.ai/ch21b021-indian-institute-of-technology-madras/iNaturalist-finetune</a><br>Synced 5 W&B file(s), 0 media file(s), 0 artifact file(s) and 0 other file(s)"
      ],
      "text/plain": [
       "<IPython.core.display.HTML object>"
      ]
     },
     "metadata": {},
     "output_type": "display_data"
    },
    {
     "data": {
      "text/html": [
       "Find logs at: <code>.\\wandb\\run-20250419_211923-yz5uqpv3\\logs</code>"
      ],
      "text/plain": [
       "<IPython.core.display.HTML object>"
      ]
     },
     "metadata": {},
     "output_type": "display_data"
    },
    {
     "data": {
      "text/html": [
       "Tracking run with wandb version 0.19.9"
      ],
      "text/plain": [
       "<IPython.core.display.HTML object>"
      ]
     },
     "metadata": {},
     "output_type": "display_data"
    },
    {
     "data": {
      "text/html": [
       "Run data is saved locally in <code>d:\\Ayaan\\IITM\\Courses\\Sem 8\\DA6401\\DA6401-Assignment-2-PartB\\wandb\\run-20250419_212033-8s2q07mp</code>"
      ],
      "text/plain": [
       "<IPython.core.display.HTML object>"
      ]
     },
     "metadata": {},
     "output_type": "display_data"
    },
    {
     "data": {
      "text/html": [
       "Syncing run <strong><a href='https://wandb.ai/ch21b021-indian-institute-of-technology-madras/DA6401-Assignment-2/runs/8s2q07mp' target=\"_blank\">stellar-field-22</a></strong> to <a href='https://wandb.ai/ch21b021-indian-institute-of-technology-madras/DA6401-Assignment-2' target=\"_blank\">Weights & Biases</a> (<a href='https://wandb.me/developer-guide' target=\"_blank\">docs</a>)<br>"
      ],
      "text/plain": [
       "<IPython.core.display.HTML object>"
      ]
     },
     "metadata": {},
     "output_type": "display_data"
    },
    {
     "data": {
      "text/html": [
       " View project at <a href='https://wandb.ai/ch21b021-indian-institute-of-technology-madras/DA6401-Assignment-2' target=\"_blank\">https://wandb.ai/ch21b021-indian-institute-of-technology-madras/DA6401-Assignment-2</a>"
      ],
      "text/plain": [
       "<IPython.core.display.HTML object>"
      ]
     },
     "metadata": {},
     "output_type": "display_data"
    },
    {
     "data": {
      "text/html": [
       " View run at <a href='https://wandb.ai/ch21b021-indian-institute-of-technology-madras/DA6401-Assignment-2/runs/8s2q07mp' target=\"_blank\">https://wandb.ai/ch21b021-indian-institute-of-technology-madras/DA6401-Assignment-2/runs/8s2q07mp</a>"
      ],
      "text/plain": [
       "<IPython.core.display.HTML object>"
      ]
     },
     "metadata": {},
     "output_type": "display_data"
    },
    {
     "data": {
      "text/html": [
       "<button onClick=\"this.nextSibling.style.display='block';this.style.display='none';\">Display W&B run</button><iframe src='https://wandb.ai/ch21b021-indian-institute-of-technology-madras/DA6401-Assignment-2/runs/8s2q07mp?jupyter=true' style='border:none;width:100%;height:420px;display:none;'></iframe>"
      ],
      "text/plain": [
       "<wandb.sdk.wandb_run.Run at 0x14655273920>"
      ]
     },
     "execution_count": 3,
     "metadata": {},
     "output_type": "execute_result"
    }
   ],
   "source": [
    "wandb.init(project=\"DA6401-Assignment-2\")"
   ]
  },
  {
   "cell_type": "markdown",
   "id": "e7066356",
   "metadata": {},
   "source": [
    "#### 3. Apply data transformations"
   ]
  },
  {
   "cell_type": "code",
   "execution_count": null,
   "id": "52d206b7",
   "metadata": {},
   "outputs": [],
   "source": [
    "train_transform = transforms.Compose([\n",
    "    transforms.RandomResizedCrop(224),\n",
    "    transforms.RandomHorizontalFlip(),\n",
    "    transforms.ToTensor(),\n",
    "    transforms.Normalize([0.485, 0.456, 0.406], [0.229, 0.224, 0.225])\n",
    "])\n",
    "\n",
    "test_transform = transforms.Compose([\n",
    "    transforms.Resize(256),\n",
    "    transforms.CenterCrop(224),\n",
    "    transforms.ToTensor(),\n",
    "    transforms.Normalize([0.485, 0.456, 0.406], [0.229, 0.224, 0.225])\n",
    "])"
   ]
  },
  {
   "cell_type": "markdown",
   "id": "dac9ceeb",
   "metadata": {},
   "source": [
    "- Train transformations include random crops and flips for data augmentation\n",
    "- Test transformations use a standardized center crop\n",
    "- Both use normalization with ImageNet statistics"
   ]
  },
  {
   "cell_type": "markdown",
   "id": "55b5027a",
   "metadata": {},
   "source": [
    "#### 4. Load datasets"
   ]
  },
  {
   "cell_type": "code",
   "execution_count": null,
   "id": "3929fbd2",
   "metadata": {},
   "outputs": [],
   "source": [
    "train_dataset = ImageFolder('nature_12K/inaturalist_12K/train', transform=train_transform)\n",
    "test_dataset = ImageFolder('nature_12K/inaturalist_12K/val', transform=test_transform)"
   ]
  },
  {
   "cell_type": "markdown",
   "id": "9035bdfe",
   "metadata": {},
   "source": [
    "#### 5. Split data into train and validaton"
   ]
  },
  {
   "cell_type": "code",
   "execution_count": 6,
   "id": "1d9ac93c",
   "metadata": {},
   "outputs": [],
   "source": [
    "train_size = int(0.8 * len(train_dataset))\n",
    "val_size = len(train_dataset) - train_size\n",
    "train_dataset, val_dataset = random_split(train_dataset, [train_size, val_size])"
   ]
  },
  {
   "cell_type": "markdown",
   "id": "e5b73081",
   "metadata": {},
   "source": [
    "#### 6. Create data loaders"
   ]
  },
  {
   "cell_type": "code",
   "execution_count": null,
   "id": "a07d5e74",
   "metadata": {},
   "outputs": [],
   "source": [
    "train_loader = DataLoader(train_dataset, batch_size=32, shuffle=True, num_workers=0)\n",
    "val_loader = DataLoader(val_dataset, batch_size=32, shuffle=False, num_workers=0)\n",
    "test_loader = DataLoader(test_dataset, batch_size=32, shuffle=False, num_workers=0)"
   ]
  },
  {
   "cell_type": "markdown",
   "id": "12bfd67c",
   "metadata": {},
   "source": [
    "#### 7. Load pre-trained ResNet50 model"
   ]
  },
  {
   "cell_type": "code",
   "execution_count": 8,
   "id": "d685e82d",
   "metadata": {},
   "outputs": [
    {
     "name": "stderr",
     "output_type": "stream",
     "text": [
      "Downloading: \"https://download.pytorch.org/models/resnet50-0676ba61.pth\" to C:\\Users\\Ayaan/.cache\\torch\\hub\\checkpoints\\resnet50-0676ba61.pth\n",
      "100%|██████████| 97.8M/97.8M [00:10<00:00, 10.2MB/s]\n"
     ]
    }
   ],
   "source": [
    "model = torchvision.models.resnet50(weights='IMAGENET1K_V1')"
   ]
  },
  {
   "cell_type": "markdown",
   "id": "570a1450",
   "metadata": {},
   "source": [
    "#### 8. Freeze early layers"
   ]
  },
  {
   "cell_type": "code",
   "execution_count": 9,
   "id": "08abf143",
   "metadata": {},
   "outputs": [],
   "source": [
    "\n",
    "for name, param in model.named_parameters():\n",
    "    if \"layer3\" not in name and \"layer4\" not in name and \"fc\" not in name:\n",
    "        param.requires_grad = False"
   ]
  },
  {
   "cell_type": "markdown",
   "id": "2d3fc233",
   "metadata": {},
   "source": [
    "Layers upto layer2 are frozen"
   ]
  },
  {
   "cell_type": "markdown",
   "id": "7b0f1a5c",
   "metadata": {},
   "source": [
    "#### 9. Replace the final fully connected layer"
   ]
  },
  {
   "cell_type": "code",
   "execution_count": 10,
   "id": "fc33bf94",
   "metadata": {},
   "outputs": [],
   "source": [
    "num_features = model.fc.in_features\n",
    "model.fc = nn.Linear(num_features, 10)  # 10 classes in iNaturalist subset"
   ]
  },
  {
   "cell_type": "markdown",
   "id": "94a8b5ad",
   "metadata": {},
   "source": [
    "#### 10. Move model to GPU if available"
   ]
  },
  {
   "cell_type": "code",
   "execution_count": 11,
   "id": "22ce2951",
   "metadata": {},
   "outputs": [],
   "source": [
    "device = torch.device(\"cuda\" if torch.cuda.is_available() else \"cpu\")\n",
    "model = model.to(device)"
   ]
  },
  {
   "cell_type": "markdown",
   "id": "ca83d05c",
   "metadata": {},
   "source": [
    "#### 11. Defining loss function and optimizer"
   ]
  },
  {
   "cell_type": "code",
   "execution_count": 12,
   "id": "a1f8346e",
   "metadata": {},
   "outputs": [],
   "source": [
    "criterion = nn.CrossEntropyLoss()\n",
    "optimizer = torch.optim.Adam([\n",
    "    {'params': model.layer3.parameters(), 'lr': 1e-4},\n",
    "    {'params': model.layer4.parameters(), 'lr': 1e-4},\n",
    "    {'params': model.fc.parameters(), 'lr': 1e-3}\n",
    "])"
   ]
  },
  {
   "cell_type": "markdown",
   "id": "8a4dd32d",
   "metadata": {},
   "source": [
    "- Uses cross-entropy loss for classification\n",
    "- Sets different learning rates for different layer groups using Adam optimizer"
   ]
  },
  {
   "cell_type": "markdown",
   "id": "5eeb04d3",
   "metadata": {},
   "source": [
    "#### 12. Training loop"
   ]
  },
  {
   "cell_type": "code",
   "execution_count": 13,
   "id": "e44ab23f",
   "metadata": {},
   "outputs": [
    {
     "name": "stdout",
     "output_type": "stream",
     "text": [
      "Epoch 1/10: Train Loss: 1.0017, Train Acc: 66.90%, Val Loss: 0.8939, Val Acc: 71.55%\n",
      "Epoch 2/10: Train Loss: 0.7887, Train Acc: 73.67%, Val Loss: 0.8536, Val Acc: 72.75%\n",
      "Epoch 3/10: Train Loss: 0.6563, Train Acc: 78.42%, Val Loss: 0.7787, Val Acc: 75.00%\n",
      "Epoch 4/10: Train Loss: 0.6095, Train Acc: 79.62%, Val Loss: 0.7256, Val Acc: 76.20%\n",
      "Epoch 5/10: Train Loss: 0.5599, Train Acc: 81.42%, Val Loss: 0.8162, Val Acc: 76.05%\n",
      "Epoch 6/10: Train Loss: 0.5328, Train Acc: 81.92%, Val Loss: 0.7355, Val Acc: 77.15%\n",
      "Epoch 7/10: Train Loss: 0.5140, Train Acc: 82.42%, Val Loss: 0.8477, Val Acc: 75.15%\n",
      "Epoch 8/10: Train Loss: 0.4760, Train Acc: 84.44%, Val Loss: 0.9347, Val Acc: 73.55%\n",
      "Epoch 9/10: Train Loss: 0.4343, Train Acc: 85.74%, Val Loss: 0.8588, Val Acc: 75.15%\n",
      "Epoch 10/10: Train Loss: 0.4186, Train Acc: 86.16%, Val Loss: 0.9246, Val Acc: 74.85%\n"
     ]
    }
   ],
   "source": [
    "num_epochs = 10\n",
    "for epoch in range(num_epochs):\n",
    "    model.train()\n",
    "    running_loss = 0.0\n",
    "    correct = 0\n",
    "    total = 0\n",
    "    \n",
    "    for images, labels in train_loader:\n",
    "        images, labels = images.to(device), labels.to(device)\n",
    "        \n",
    "        optimizer.zero_grad()\n",
    "        outputs = model(images)\n",
    "        loss = criterion(outputs, labels)\n",
    "        loss.backward()\n",
    "        optimizer.step()\n",
    "        \n",
    "        running_loss += loss.item()\n",
    "        _, predicted = outputs.max(1)\n",
    "        total += labels.size(0)\n",
    "        correct += predicted.eq(labels).sum().item()\n",
    "    \n",
    "    train_loss = running_loss / len(train_loader)\n",
    "    train_acc = 100. * correct / total\n",
    "    \n",
    "    # Validation\n",
    "    model.eval()\n",
    "    val_loss = 0.0\n",
    "    val_correct = 0\n",
    "    val_total = 0\n",
    "    \n",
    "    with torch.no_grad():\n",
    "        for images, labels in val_loader:\n",
    "            images, labels = images.to(device), labels.to(device)\n",
    "            outputs = model(images)\n",
    "            loss = criterion(outputs, labels)\n",
    "            \n",
    "            val_loss += loss.item()\n",
    "            _, predicted = outputs.max(1)\n",
    "            val_total += labels.size(0)\n",
    "            val_correct += predicted.eq(labels).sum().item()\n",
    "    \n",
    "    val_loss = val_loss / len(val_loader)\n",
    "    val_acc = 100. * val_correct / val_total\n",
    "    \n",
    "    # Log metrics\n",
    "    wandb.log({\n",
    "        'epoch': epoch,\n",
    "        'train_loss': train_loss,\n",
    "        'train_acc': train_acc,\n",
    "        'val_loss': val_loss,\n",
    "        'val_acc': val_acc\n",
    "    })\n",
    "    \n",
    "    print(f'Epoch {epoch+1}/{num_epochs}: Train Loss: {train_loss:.4f}, Train Acc: {train_acc:.2f}%, Val Loss: {val_loss:.4f}, Val Acc: {val_acc:.2f}%')"
   ]
  },
  {
   "cell_type": "markdown",
   "id": "671dc138",
   "metadata": {},
   "source": [
    "- Trains the model for 10 epochs\n",
    "- Tracks training and validation metrics\n",
    "- Logs results to wandb\n",
    "- Prints progress updates"
   ]
  },
  {
   "cell_type": "markdown",
   "id": "e868fbb5",
   "metadata": {},
   "source": [
    "#### 13. Testing the final model"
   ]
  },
  {
   "cell_type": "code",
   "execution_count": 14,
   "id": "1668274d",
   "metadata": {},
   "outputs": [
    {
     "name": "stdout",
     "output_type": "stream",
     "text": [
      "Test Accuracy: 81.20%\n"
     ]
    }
   ],
   "source": [
    "model.eval()\n",
    "test_correct = 0\n",
    "test_total = 0\n",
    "\n",
    "with torch.no_grad():\n",
    "    for images, labels in test_loader:\n",
    "        images, labels = images.to(device), labels.to(device)\n",
    "        outputs = model(images)\n",
    "        _, predicted = outputs.max(1)\n",
    "        test_total += labels.size(0)\n",
    "        test_correct += predicted.eq(labels).sum().item()\n",
    "\n",
    "test_acc = 100. * test_correct / test_total\n",
    "print(f'Test Accuracy: {test_acc:.2f}%')\n",
    "wandb.log({'test_acc': test_acc})"
   ]
  },
  {
   "cell_type": "markdown",
   "id": "19f98633",
   "metadata": {},
   "source": [
    "#### 14. Save the model"
   ]
  },
  {
   "cell_type": "code",
   "execution_count": 15,
   "id": "8d39f0ad",
   "metadata": {},
   "outputs": [
    {
     "data": {
      "text/html": [],
      "text/plain": [
       "<IPython.core.display.HTML object>"
      ]
     },
     "metadata": {},
     "output_type": "display_data"
    },
    {
     "data": {
      "text/html": [
       "<br>    <style><br>        .wandb-row {<br>            display: flex;<br>            flex-direction: row;<br>            flex-wrap: wrap;<br>            justify-content: flex-start;<br>            width: 100%;<br>        }<br>        .wandb-col {<br>            display: flex;<br>            flex-direction: column;<br>            flex-basis: 100%;<br>            flex: 1;<br>            padding: 10px;<br>        }<br>    </style><br><div class=\"wandb-row\"><div class=\"wandb-col\"><h3>Run history:</h3><br/><table class=\"wandb\"><tr><td>epoch</td><td>▁▂▃▃▄▅▆▆▇█</td></tr><tr><td>test_acc</td><td>▁</td></tr><tr><td>train_acc</td><td>▁▃▅▆▆▆▇▇██</td></tr><tr><td>train_loss</td><td>█▅▄▃▃▂▂▂▁▁</td></tr><tr><td>val_acc</td><td>▁▂▅▇▇█▅▄▅▅</td></tr><tr><td>val_loss</td><td>▇▅▃▁▄▁▅█▅█</td></tr></table><br/></div><div class=\"wandb-col\"><h3>Run summary:</h3><br/><table class=\"wandb\"><tr><td>epoch</td><td>9</td></tr><tr><td>test_acc</td><td>81.2</td></tr><tr><td>train_acc</td><td>86.16077</td></tr><tr><td>train_loss</td><td>0.41864</td></tr><tr><td>val_acc</td><td>74.85</td></tr><tr><td>val_loss</td><td>0.92459</td></tr></table><br/></div></div>"
      ],
      "text/plain": [
       "<IPython.core.display.HTML object>"
      ]
     },
     "metadata": {},
     "output_type": "display_data"
    },
    {
     "data": {
      "text/html": [
       " View run <strong style=\"color:#cdcd00\">stellar-field-22</strong> at: <a href='https://wandb.ai/ch21b021-indian-institute-of-technology-madras/DA6401-Assignment-2/runs/8s2q07mp' target=\"_blank\">https://wandb.ai/ch21b021-indian-institute-of-technology-madras/DA6401-Assignment-2/runs/8s2q07mp</a><br> View project at: <a href='https://wandb.ai/ch21b021-indian-institute-of-technology-madras/DA6401-Assignment-2' target=\"_blank\">https://wandb.ai/ch21b021-indian-institute-of-technology-madras/DA6401-Assignment-2</a><br>Synced 5 W&B file(s), 0 media file(s), 0 artifact file(s) and 0 other file(s)"
      ],
      "text/plain": [
       "<IPython.core.display.HTML object>"
      ]
     },
     "metadata": {},
     "output_type": "display_data"
    },
    {
     "data": {
      "text/html": [
       "Find logs at: <code>.\\wandb\\run-20250419_212033-8s2q07mp\\logs</code>"
      ],
      "text/plain": [
       "<IPython.core.display.HTML object>"
      ]
     },
     "metadata": {},
     "output_type": "display_data"
    }
   ],
   "source": [
    "torch.save(model.state_dict(), 'resnet50_finetuned.pth')\n",
    "wandb.finish()"
   ]
  }
 ],
 "metadata": {
  "kernelspec": {
   "display_name": "base",
   "language": "python",
   "name": "python3"
  },
  "language_info": {
   "codemirror_mode": {
    "name": "ipython",
    "version": 3
   },
   "file_extension": ".py",
   "mimetype": "text/x-python",
   "name": "python",
   "nbconvert_exporter": "python",
   "pygments_lexer": "ipython3",
   "version": "3.12.4"
  }
 },
 "nbformat": 4,
 "nbformat_minor": 5
}
