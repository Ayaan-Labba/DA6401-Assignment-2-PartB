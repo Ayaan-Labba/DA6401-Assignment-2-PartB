{
 "cells": [
  {
   "cell_type": "markdown",
   "id": "59ca92a6",
   "metadata": {},
   "source": [
    "Importing required libraries,"
   ]
  },
  {
   "cell_type": "code",
   "execution_count": null,
   "id": "51cb39e1",
   "metadata": {},
   "outputs": [],
   "source": [
    "import torch\n",
    "import torch.nn as nn\n",
    "import torchvision\n",
    "import torchvision.transforms as transforms\n",
    "from torch.utils.data import DataLoader, random_split\n",
    "from torchvision.datasets import ImageFolder\n",
    "import wandb"
   ]
  },
  {
   "cell_type": "markdown",
   "id": "18ee9dec",
   "metadata": {},
   "source": [
    "Initializing wandb,"
   ]
  },
  {
   "cell_type": "code",
   "execution_count": null,
   "id": "454c3186",
   "metadata": {},
   "outputs": [],
   "source": [
    "wandb.init(project=\"iNaturalist-finetune\")"
   ]
  },
  {
   "cell_type": "markdown",
   "id": "e7066356",
   "metadata": {},
   "source": [
    "Applying data transformations,"
   ]
  },
  {
   "cell_type": "code",
   "execution_count": null,
   "id": "52d206b7",
   "metadata": {},
   "outputs": [],
   "source": [
    "train_transform = transforms.Compose([\n",
    "    transforms.RandomResizedCrop(224),\n",
    "    transforms.RandomHorizontalFlip(),\n",
    "    transforms.ToTensor(),\n",
    "    transforms.Normalize([0.485, 0.456, 0.406], [0.229, 0.224, 0.225])\n",
    "])\n",
    "\n",
    "test_transform = transforms.Compose([\n",
    "    transforms.Resize(256),\n",
    "    transforms.CenterCrop(224),\n",
    "    transforms.ToTensor(),\n",
    "    transforms.Normalize([0.485, 0.456, 0.406], [0.229, 0.224, 0.225])\n",
    "])\n",
    "\n",
    "# Load datasets\n",
    "train_dataset = ImageFolder('path/to/train', transform=train_transform)\n",
    "test_dataset = ImageFolder('path/to/test', transform=test_transform)"
   ]
  },
  {
   "cell_type": "markdown",
   "id": "9035bdfe",
   "metadata": {},
   "source": [
    "Splitting data into train and validaton,"
   ]
  },
  {
   "cell_type": "code",
   "execution_count": null,
   "id": "1d9ac93c",
   "metadata": {},
   "outputs": [],
   "source": [
    "train_size = int(0.8 * len(train_dataset))\n",
    "val_size = len(train_dataset) - train_size\n",
    "train_dataset, val_dataset = random_split(train_dataset, [train_size, val_size])"
   ]
  },
  {
   "cell_type": "markdown",
   "id": "e5b73081",
   "metadata": {},
   "source": [
    "Creating data loaders,"
   ]
  },
  {
   "cell_type": "code",
   "execution_count": null,
   "id": "a07d5e74",
   "metadata": {},
   "outputs": [],
   "source": [
    "train_loader = DataLoader(train_dataset, batch_size=32, shuffle=True, num_workers=4)\n",
    "val_loader = DataLoader(val_dataset, batch_size=32, shuffle=False, num_workers=4)\n",
    "test_loader = DataLoader(test_dataset, batch_size=32, shuffle=False, num_workers=4)"
   ]
  },
  {
   "cell_type": "markdown",
   "id": "12bfd67c",
   "metadata": {},
   "source": [
    "Loading pre-trained ResNet50 model,"
   ]
  },
  {
   "cell_type": "code",
   "execution_count": null,
   "id": "d685e82d",
   "metadata": {},
   "outputs": [],
   "source": [
    "model = torchvision.models.resnet50(weights='IMAGENET1K_V1')"
   ]
  },
  {
   "cell_type": "markdown",
   "id": "570a1450",
   "metadata": {},
   "source": [
    "Freezing early layers (up to layer2),"
   ]
  },
  {
   "cell_type": "code",
   "execution_count": null,
   "id": "08abf143",
   "metadata": {},
   "outputs": [],
   "source": [
    "\n",
    "for name, param in model.named_parameters():\n",
    "    if \"layer3\" not in name and \"layer4\" not in name and \"fc\" not in name:\n",
    "        param.requires_grad = False"
   ]
  },
  {
   "cell_type": "markdown",
   "id": "7b0f1a5c",
   "metadata": {},
   "source": [
    "Replacing the final fully connected layer,"
   ]
  },
  {
   "cell_type": "code",
   "execution_count": null,
   "id": "fc33bf94",
   "metadata": {},
   "outputs": [],
   "source": [
    "num_features = model.fc.in_features\n",
    "model.fc = nn.Linear(num_features, 10)  # 10 classes in iNaturalist subset"
   ]
  },
  {
   "cell_type": "markdown",
   "id": "94a8b5ad",
   "metadata": {},
   "source": [
    "Moving model to GPU if available,"
   ]
  },
  {
   "cell_type": "code",
   "execution_count": null,
   "id": "22ce2951",
   "metadata": {},
   "outputs": [],
   "source": [
    "device = torch.device(\"cuda\" if torch.cuda.is_available() else \"cpu\")\n",
    "model = model.to(device)"
   ]
  },
  {
   "cell_type": "markdown",
   "id": "ca83d05c",
   "metadata": {},
   "source": [
    "Defining loss function and optimizer,"
   ]
  },
  {
   "cell_type": "code",
   "execution_count": null,
   "id": "a1f8346e",
   "metadata": {},
   "outputs": [],
   "source": [
    "criterion = nn.CrossEntropyLoss()\n",
    "optimizer = torch.optim.Adam([\n",
    "    {'params': model.layer3.parameters(), 'lr': 1e-4},\n",
    "    {'params': model.layer4.parameters(), 'lr': 1e-4},\n",
    "    {'params': model.fc.parameters(), 'lr': 1e-3}\n",
    "])"
   ]
  },
  {
   "cell_type": "markdown",
   "id": "5eeb04d3",
   "metadata": {},
   "source": [
    "Training loop:"
   ]
  },
  {
   "cell_type": "code",
   "execution_count": null,
   "id": "e44ab23f",
   "metadata": {},
   "outputs": [],
   "source": [
    "num_epochs = 10\n",
    "for epoch in range(num_epochs):\n",
    "    model.train()\n",
    "    running_loss = 0.0\n",
    "    correct = 0\n",
    "    total = 0\n",
    "    \n",
    "    for images, labels in train_loader:\n",
    "        images, labels = images.to(device), labels.to(device)\n",
    "        \n",
    "        optimizer.zero_grad()\n",
    "        outputs = model(images)\n",
    "        loss = criterion(outputs, labels)\n",
    "        loss.backward()\n",
    "        optimizer.step()\n",
    "        \n",
    "        running_loss += loss.item()\n",
    "        _, predicted = outputs.max(1)\n",
    "        total += labels.size(0)\n",
    "        correct += predicted.eq(labels).sum().item()\n",
    "    \n",
    "    train_loss = running_loss / len(train_loader)\n",
    "    train_acc = 100. * correct / total\n",
    "    \n",
    "    # Validation\n",
    "    model.eval()\n",
    "    val_loss = 0.0\n",
    "    val_correct = 0\n",
    "    val_total = 0\n",
    "    \n",
    "    with torch.no_grad():\n",
    "        for images, labels in val_loader:\n",
    "            images, labels = images.to(device), labels.to(device)\n",
    "            outputs = model(images)\n",
    "            loss = criterion(outputs, labels)\n",
    "            \n",
    "            val_loss += loss.item()\n",
    "            _, predicted = outputs.max(1)\n",
    "            val_total += labels.size(0)\n",
    "            val_correct += predicted.eq(labels).sum().item()\n",
    "    \n",
    "    val_loss = val_loss / len(val_loader)\n",
    "    val_acc = 100. * val_correct / val_total\n",
    "    \n",
    "    # Log metrics\n",
    "    wandb.log({\n",
    "        'epoch': epoch,\n",
    "        'train_loss': train_loss,\n",
    "        'train_acc': train_acc,\n",
    "        'val_loss': val_loss,\n",
    "        'val_acc': val_acc\n",
    "    })\n",
    "    \n",
    "    print(f'Epoch {epoch+1}/{num_epochs}: Train Loss: {train_loss:.4f}, Train Acc: {train_acc:.2f}%, Val Loss: {val_loss:.4f}, Val Acc: {val_acc:.2f}%')"
   ]
  },
  {
   "cell_type": "markdown",
   "id": "e868fbb5",
   "metadata": {},
   "source": [
    "Testing the final model,"
   ]
  },
  {
   "cell_type": "code",
   "execution_count": null,
   "id": "1668274d",
   "metadata": {},
   "outputs": [],
   "source": [
    "model.eval()\n",
    "test_correct = 0\n",
    "test_total = 0\n",
    "\n",
    "with torch.no_grad():\n",
    "    for images, labels in test_loader:\n",
    "        images, labels = images.to(device), labels.to(device)\n",
    "        outputs = model(images)\n",
    "        _, predicted = outputs.max(1)\n",
    "        test_total += labels.size(0)\n",
    "        test_correct += predicted.eq(labels).sum().item()\n",
    "\n",
    "test_acc = 100. * test_correct / test_total\n",
    "print(f'Test Accuracy: {test_acc:.2f}%')\n",
    "wandb.log({'test_acc': test_acc})"
   ]
  },
  {
   "cell_type": "markdown",
   "id": "19f98633",
   "metadata": {},
   "source": [
    "Save the model:"
   ]
  },
  {
   "cell_type": "code",
   "execution_count": null,
   "id": "8d39f0ad",
   "metadata": {},
   "outputs": [],
   "source": [
    "torch.save(model.state_dict(), 'resnet50_finetuned.pth')\n",
    "wandb.finish()"
   ]
  }
 ],
 "metadata": {
  "kernelspec": {
   "display_name": "base",
   "language": "python",
   "name": "python3"
  },
  "language_info": {
   "name": "python",
   "version": "3.12.4"
  }
 },
 "nbformat": 4,
 "nbformat_minor": 5
}
